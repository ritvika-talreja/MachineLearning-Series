{
  "cells": [
    {
      "cell_type": "markdown",
      "metadata": {
        "id": "m5pxuR8PPS5D"
      },
      "source": [
        "<div id=\"header\">\n",
        "    <p style=\"color:black; text-align:center; font-weight:bold; font-family:Tahoma, sans-serif; font-size:24px;\">\n",
        "        K Nearest Neighbors\n",
        "    </p>\n",
        "</div>"
      ]
    },
    {
      "cell_type": "markdown",
      "metadata": {
        "id": "AqI6v5oPKGRO"
      },
      "source": [
        "<div style=\"background-color:#bfbfbf; padding:8px; border:2px dotted black; border-radius:8px; font-family:sans-serif; line-height: 1.7em\">\n",
        "\n",
        "KNN(K-Nearest Neighbors) employs an instance-based learning approach, where it retains all available cases and classifies new data by similarity. This method is classified as lazy learning since it doesn't develop a discriminative function from the training data. Instead, it memorizes the training dataset.\n",
        "\n",
        "**WORKING OF KNN**\n",
        "\n",
        "**Step 1: Selecting the optimal value of K**\n",
        "\n",
        "K represents the number of nearest neighbors that needs to be considered while making prediction.\n",
        "\n",
        "**Step 2: Calculating distance**\n",
        "\n",
        "To measure the similarity between target and training data points, Euclidean distance is used. Distance is calculated between each of the data points in the dataset and target point.\n",
        "\n",
        "**Step 3: Finding Nearest Neighbors**\n",
        "\n",
        "The k data points with the smallest distances to the target point are the nearest neighbors.\n",
        "\n",
        "The goal of this notebook is to implement the KNN algorithm from scratch, apply it to the **Airline Passenger Satisfaction** dataset, and determine the optimal value of `k` for prediction.\n",
        "</div>\n",
        "\n"
      ]
    },
    {
      "cell_type": "markdown",
      "metadata": {
        "id": "gX6KV4_VJ0tZ"
      },
      "source": [
        "# Importing Data"
      ]
    },
    {
      "cell_type": "code",
      "execution_count": 1,
      "metadata": {
        "id": "i6Q1GFVFAils"
      },
      "outputs": [],
      "source": [
        "import pandas as pd\n",
        "import numpy as np\n",
        "import matplotlib.pyplot as plt\n",
        "import seaborn as sns\n",
        "from sklearn.model_selection import train_test_split\n",
        "from sklearn.metrics import confusion_matrix, roc_curve, auc\n",
        "from collections import Counter"
      ]
    },
    {
      "cell_type": "code",
      "execution_count": null,
      "metadata": {
        "id": "pT3sVQlfAoqM"
      },
      "outputs": [],
      "source": [
        "# Load the dataset\n",
        "df = pd.read_csv(\"Airline_Passenger_Satisfaction.csv\")"
      ]
    },
    {
      "cell_type": "markdown",
      "metadata": {
        "id": "xXZCmAMHI1J8"
      },
      "source": [
        "# Data Preprocessing"
      ]
    },
    {
      "cell_type": "code",
      "execution_count": null,
      "metadata": {
        "id": "LrJHlj4jAr-N"
      },
      "outputs": [],
      "source": [
        "# Drop irrelevant columns\n",
        "df.drop(columns=['Unnamed', 'id'], inplace=True)"
      ]
    },
    {
      "cell_type": "code",
      "execution_count": null,
      "metadata": {
        "id": "P_0XEAjyAv3W"
      },
      "outputs": [],
      "source": [
        "# Reset index to ensure a clean index\n",
        "df.reset_index(drop=True, inplace=True)"
      ]
    },
    {
      "cell_type": "code",
      "execution_count": null,
      "metadata": {
        "id": "BZJExiqsA0Qj"
      },
      "outputs": [],
      "source": [
        "# Encode the target variable (satisfaction)\n",
        "df['satisfaction'] = df['satisfaction'].apply(lambda x: 1 if x == 'satisfied' else 0)"
      ]
    },
    {
      "cell_type": "code",
      "execution_count": null,
      "metadata": {
        "id": "9FoJTDSYA3mp"
      },
      "outputs": [],
      "source": [
        "# One-hot encode categorical columns\n",
        "categorical_columns = ['Gender', 'Customer Type', 'Type of Travel', 'Class']\n",
        "df = pd.get_dummies(df, columns=categorical_columns, drop_first=True)"
      ]
    },
    {
      "cell_type": "code",
      "execution_count": null,
      "metadata": {
        "id": "p6UmbPaSA_dY"
      },
      "outputs": [],
      "source": [
        "# Fill missing values with the median\n",
        "df.fillna(df.median(), inplace=True)"
      ]
    },
    {
      "cell_type": "code",
      "execution_count": null,
      "metadata": {
        "id": "iVKLzLCzBDKb"
      },
      "outputs": [],
      "source": [
        "# Separate features (X) and target (y)\n",
        "X = df.drop(columns=['satisfaction'])\n",
        "y = df['satisfaction']"
      ]
    },
    {
      "cell_type": "code",
      "execution_count": null,
      "metadata": {
        "id": "2glGS3L9BE1y"
      },
      "outputs": [],
      "source": [
        "# Ensure X contains only numeric data\n",
        "X = X.select_dtypes(include=[np.number])"
      ]
    },
    {
      "cell_type": "code",
      "execution_count": null,
      "metadata": {
        "id": "KEudWYE2BKIq"
      },
      "outputs": [],
      "source": [
        "# Convert X to a NumPy array\n",
        "X = X.to_numpy()"
      ]
    },
    {
      "cell_type": "code",
      "execution_count": null,
      "metadata": {
        "id": "QugO0oVQBNWK"
      },
      "outputs": [],
      "source": [
        "# Perform Z-score normalization\n",
        "X = (X - np.mean(X, axis=0)) / np.std(X, axis=0)"
      ]
    },
    {
      "cell_type": "markdown",
      "metadata": {
        "id": "ICLHbYf7I7ws"
      },
      "source": [
        "# Splitting the Dataset"
      ]
    },
    {
      "cell_type": "code",
      "execution_count": null,
      "metadata": {
        "id": "5sFsLJ2WBRW5"
      },
      "outputs": [],
      "source": [
        "# Split the dataset into training and testing sets (80% train, 20% test)\n",
        "X_train, X_test, y_train, y_test = train_test_split(X, y, test_size=0.2, random_state=42)"
      ]
    },
    {
      "cell_type": "markdown",
      "metadata": {
        "id": "ikM3_YxtO3b5"
      },
      "source": [
        "# Implementation of KNN Algorithm"
      ]
    },
    {
      "cell_type": "code",
      "execution_count": null,
      "metadata": {
        "id": "FNIqOr5BBV8u"
      },
      "outputs": [],
      "source": [
        "# Step 3: Implement the KNN algorithm\n",
        "def euclidean_distance(point1, point2):\n",
        "    \"\"\"Compute Euclidean distance between two points\"\"\"\n",
        "    return np.sqrt(np.sum((point1 - point2) ** 2))\n",
        "\n",
        "def knn_predict(X_train, y_train, X_test, k=5):\n",
        "    predictions = []\n",
        "    for test_point in X_test:\n",
        "        # Calculate distances from the test point to all training points\n",
        "        distances = [euclidean_distance(test_point, train_point) for train_point in X_train]\n",
        "\n",
        "        # Get the indices of the k nearest neighbors\n",
        "        k_indices = np.argsort(distances)[:k]\n",
        "\n",
        "        # Get the labels of the k nearest neighbors\n",
        "        k_nearest_labels = [y_train.iloc[i] for i in k_indices]  # Use `.iloc[]` to access by position\n",
        "\n",
        "        # Majority vote (most common class)\n",
        "        most_common = Counter(k_nearest_labels).most_common(1)[0][0]\n",
        "        predictions.append(most_common)\n",
        "\n",
        "    return predictions"
      ]
    },
    {
      "cell_type": "code",
      "execution_count": null,
      "metadata": {
        "colab": {
          "background_save": true
        },
        "id": "s-5RUumiBZsZ"
      },
      "outputs": [],
      "source": [
        "# Step 4: Make predictions on the test set\n",
        "k = 5  # Number of neighbors\n",
        "y_pred = knn_predict(X_train, y_train, X_test, k)"
      ]
    },
    {
      "cell_type": "code",
      "execution_count": null,
      "metadata": {
        "colab": {
          "base_uri": "https://localhost:8080/"
        },
        "id": "sI9-jG8oE3ra",
        "outputId": "4a9940ea-d452-4cca-8baa-c4571cdfd869"
      },
      "outputs": [
        {
          "name": "stdout",
          "output_type": "stream",
          "text": [
            "Accuracy: 0.8981909160892995\n"
          ]
        }
      ],
      "source": [
        "# Step 5: Evaluate the model (Accuracy calculation)\n",
        "def accuracy(y_true, y_pred):\n",
        "    return np.sum(y_true == y_pred) / len(y_true)\n",
        "\n",
        "# Print the accuracy\n",
        "print(\"Accuracy:\", accuracy(y_test, y_pred))"
      ]
    },
    {
      "cell_type": "code",
      "execution_count": null,
      "metadata": {
        "colab": {
          "base_uri": "https://localhost:8080/",
          "height": 487
        },
        "id": "BACtrUU1FYJI",
        "outputId": "d44481d2-4ea4-4b6b-b934-ef0646dc1ee8"
      },
      "outputs": [
        {
          "data": {
            "image/png": "[encoded data removed]",
            "text/plain": [
              "<Figure size 500x500 with 2 Axes>"
            ]
          },
          "metadata": {},
          "output_type": "display_data"
        }
      ],
      "source": [
        "# Confusion Matrix\n",
        "cm = confusion_matrix(y_test, y_pred)\n",
        "plt.figure(figsize=(5,5))\n",
        "sns.heatmap(cm, annot=True, fmt='d', cmap='Blues', xticklabels=['Not Satisfied', 'Satisfied'], yticklabels=['Not Satisfied', 'Satisfied'])\n",
        "plt.title(\"Confusion Matrix\")\n",
        "plt.ylabel(\"True Label\")\n",
        "plt.xlabel(\"Predicted Label\")\n",
        "plt.show()"
      ]
    },
    {
      "cell_type": "markdown",
      "metadata": {
        "id": "DSr8B1sxq5Ar"
      },
      "source": [
        "# Finding a Optimum K value"
      ]
    },
    {
      "cell_type": "code",
      "execution_count": null,
      "metadata": {
        "colab": {
          "base_uri": "https://localhost:8080/",
          "height": 207
        },
        "id": "h7YBu40gdaDc",
        "outputId": "6bf39140-0a0e-40fa-9893-259c053a7446"
      },
      "outputs": [
        {
          "ename": "NameError",
          "evalue": "name 'knn_predict' is not defined",
          "output_type": "error",
          "traceback": [
            "\u001b[0;31m---------------------------------------------------------------------------\u001b[0m",
            "\u001b[0;31mNameError\u001b[0m                                 Traceback (most recent call last)",
            "\u001b[0;32m<ipython-input-2-7a9c7b0f26fc>\u001b[0m in \u001b[0;36m<cell line: 5>\u001b[0;34m()\u001b[0m\n\u001b[1;32m      5\u001b[0m \u001b[0;32mfor\u001b[0m \u001b[0mi\u001b[0m \u001b[0;32min\u001b[0m \u001b[0mk_values\u001b[0m\u001b[0;34m:\u001b[0m\u001b[0;34m\u001b[0m\u001b[0;34m\u001b[0m\u001b[0m\n\u001b[1;32m      6\u001b[0m     \u001b[0;31m# Make predictions using the custom KNN function\u001b[0m\u001b[0;34m\u001b[0m\u001b[0;34m\u001b[0m\u001b[0m\n\u001b[0;32m----> 7\u001b[0;31m     \u001b[0my_pred\u001b[0m \u001b[0;34m=\u001b[0m \u001b[0mknn_predict\u001b[0m\u001b[0;34m(\u001b[0m\u001b[0mX_train\u001b[0m\u001b[0;34m,\u001b[0m \u001b[0my_train\u001b[0m\u001b[0;34m,\u001b[0m \u001b[0mX_test\u001b[0m\u001b[0;34m,\u001b[0m \u001b[0mk\u001b[0m\u001b[0;34m=\u001b[0m\u001b[0mi\u001b[0m\u001b[0;34m)\u001b[0m\u001b[0;34m\u001b[0m\u001b[0;34m\u001b[0m\u001b[0m\n\u001b[0m\u001b[1;32m      8\u001b[0m \u001b[0;34m\u001b[0m\u001b[0m\n\u001b[1;32m      9\u001b[0m     \u001b[0;31m# Calculate accuracy\u001b[0m\u001b[0;34m\u001b[0m\u001b[0;34m\u001b[0m\u001b[0m\n",
            "\u001b[0;31mNameError\u001b[0m: name 'knn_predict' is not defined"
          ]
        }
      ],
      "source": [
        "# Run the loop to evaluate different values of k\n",
        "k_values = range(1, 16)\n",
        "scores = []\n",
        "\n",
        "for i in k_values:\n",
        "    # Make predictions using the custom KNN function\n",
        "    y_pred = knn_predict(X_train, y_train, X_test, k=i)\n",
        "\n",
        "    # Calculate accuracy\n",
        "    accuracy = accuracy_score(y_test, y_pred)\n",
        "    scores.append(accuracy)"
      ]
    },
    {
      "cell_type": "markdown",
      "metadata": {
        "id": "WGzo4OpsQ4KO"
      },
      "source": [
        "<div style=\"background-color:#bfbfbf; padding:8px; border:2px dotted black; border-radius:8px; font-family:sans-serif; line-height: 1.7em\">\n",
        "\n",
        "**Overfitting and Underfitting in KNN**\n",
        "\n",
        "**Overfitting**\n",
        "\n",
        "1.   When the value of k is very small (e.g., k=1), the model tends to memorize the data points, and each test point is classified based on the nearest training point. This can lead to poor generalization, as the model is highly sensitive to noise in the data.\n",
        "\n",
        "2.   With a small k, the model has high variance, meaning it can easily adapt to the idiosyncrasies of the training data.\n",
        "\n",
        "**Underfitting**\n",
        "\n",
        "1.   When k is large, the model tends to take into account a large number of neighbors, which may dilute the influence of individual data points. This causes the model to become overly simplistic, failing to capture the complexity of the data.\n",
        "2.   With a large k, the model has high bias because it generalizes too much and cannot capture the fine details of the data.\n",
        "\n",
        "</div>\n",
        "\n",
        "\n"
      ]
    }
  ],
  "metadata": {
    "colab": {
      "provenance": []
    },
    "kernelspec": {
      "display_name": "Python 3",
      "name": "python3"
    },
    "language_info": {
      "name": "python"
    }
  },
  "nbformat": 4,
  "nbformat_minor": 0
}