{
  "cells": [
    {
      "cell_type": "markdown",
      "source": [
        "<div id=\"header\">\n",
        "    <p style=\"color:black; text-align:center; font-weight:bold; font-family:Tahoma, sans-serif; font-size:24px;\">\n",
        "        Data Gathering with JSON/SQL\n",
        "    </p>\n",
        "</div>"
      ],
      "metadata": {
        "id": "8K0-iHTxHrcZ"
      }
    },
    {
      "cell_type": "markdown",
      "source": [
        "<div style=\"background-color:#bfbfbf; padding:8px; border:2px dotted black; border-radius:8px; font-family:sans-serif; line-height: 1.7em\">\n",
        "\n",
        "Data gathering is the first and one of the most essential steps in the machine learning workflow.\n",
        "\n",
        "**JSON (JavaScript Object Notation)** and **SQL (Structured Query Language)** play vital roles in accessing and managing data efficiently. SQL is primarily used for interacting with relational databases, while JSON is a lightweight data interchange format commonly used for APIs.\n",
        "\n",
        "</div>"
      ],
      "metadata": {
        "id": "Z7AwcgGjIh9r"
      }
    },
    {
      "cell_type": "code",
      "execution_count": 1,
      "metadata": {
        "id": "tVnjqGE-GQzo"
      },
      "outputs": [],
      "source": [
        "import pandas as pd"
      ]
    },
    {
      "cell_type": "markdown",
      "metadata": {
        "id": "QRSy_VC2GQzu"
      },
      "source": [
        "# Woking with JSON"
      ]
    },
    {
      "cell_type": "code",
      "execution_count": 2,
      "metadata": {
        "id": "lXTfTJ84GQzw"
      },
      "outputs": [],
      "source": [
        "df = pd.read_json('world-population-by-country.json')"
      ]
    },
    {
      "cell_type": "code",
      "source": [
        "df.columns = ['Position', 'Country', 'Population', 'Yearly Change', 'Net Change', 'Density per Square Km', 'Land Area in Square Km', 'Migrants Net', 'Fertility Rate', 'Median Age', 'Urban Population', 'World Share']\n",
        "print(df.head())"
      ],
      "metadata": {
        "colab": {
          "base_uri": "https://localhost:8080/"
        },
        "id": "Wx2t4RsmGsBi",
        "outputId": "56ee4b03-9d0f-4e6d-a240-1af74d4e584d"
      },
      "execution_count": 3,
      "outputs": [
        {
          "output_type": "stream",
          "name": "stdout",
          "text": [
            "   Position        Country     Population Yearly Change  Net Change  \\\n",
            "0         1          China  1,439,323,776        0.39 %   5,540,090   \n",
            "1         2          India  1,380,004,385        0.99 %  13,586,631   \n",
            "2         3  United States    331,002,651        0.59 %   1,937,734   \n",
            "3         4      Indonesia    273,523,615        1.07 %   2,898,047   \n",
            "4         5       Pakistan    220,892,340        2.00 %   4,327,022   \n",
            "\n",
            "  Density per Square Km Land Area in Square Km Migrants Net Fertility Rate  \\\n",
            "0                   153              9,388,211     -348,399            1.7   \n",
            "1                   464              2,973,190     -532,687            2.2   \n",
            "2                    36              9,147,420      954,806            1.8   \n",
            "3                   151              1,811,570      -98,955            2.3   \n",
            "4                   287                770,880     -233,379            3.6   \n",
            "\n",
            "  Median Age Urban Population World Share  \n",
            "0         38             61 %     18.47 %  \n",
            "1         28             35 %     17.70 %  \n",
            "2         38             83 %      4.25 %  \n",
            "3         30             56 %      3.51 %  \n",
            "4         23             35 %      2.83 %  \n"
          ]
        }
      ]
    },
    {
      "cell_type": "code",
      "source": [
        "display(df.head())"
      ],
      "metadata": {
        "colab": {
          "base_uri": "https://localhost:8080/",
          "height": 360
        },
        "id": "Fhd78MuTGzBl",
        "outputId": "2bc82437-7d60-4a7d-9c8b-70bc2f090d28"
      },
      "execution_count": 4,
      "outputs": [
        {
          "output_type": "display_data",
          "data": {
            "text/plain": [
              "   Position        Country     Population Yearly Change  Net Change  \\\n",
              "0         1          China  1,439,323,776        0.39 %   5,540,090   \n",
              "1         2          India  1,380,004,385        0.99 %  13,586,631   \n",
              "2         3  United States    331,002,651        0.59 %   1,937,734   \n",
              "3         4      Indonesia    273,523,615        1.07 %   2,898,047   \n",
              "4         5       Pakistan    220,892,340        2.00 %   4,327,022   \n",
              "\n",
              "  Density per Square Km Land Area in Square Km Migrants Net Fertility Rate  \\\n",
              "0                   153              9,388,211     -348,399            1.7   \n",
              "1                   464              2,973,190     -532,687            2.2   \n",
              "2                    36              9,147,420      954,806            1.8   \n",
              "3                   151              1,811,570      -98,955            2.3   \n",
              "4                   287                770,880     -233,379            3.6   \n",
              "\n",
              "  Median Age Urban Population World Share  \n",
              "0         38             61 %     18.47 %  \n",
              "1         28             35 %     17.70 %  \n",
              "2         38             83 %      4.25 %  \n",
              "3         30             56 %      3.51 %  \n",
              "4         23             35 %      2.83 %  "
            ],
            "text/html": [
              "\n",
              "  <div id=\"df-a4cbea3b-a568-42dd-8546-4bc7f97daa28\" class=\"colab-df-container\">\n",
              "    <div>\n",
              "<style scoped>\n",
              "    .dataframe tbody tr th:only-of-type {\n",
              "        vertical-align: middle;\n",
              "    }\n",
              "\n",
              "    .dataframe tbody tr th {\n",
              "        vertical-align: top;\n",
              "    }\n",
              "\n",
              "    .dataframe thead th {\n",
              "        text-align: right;\n",
              "    }\n",
              "</style>\n",
              "<table border=\"1\" class=\"dataframe\">\n",
              "  <thead>\n",
              "    <tr style=\"text-align: right;\">\n",
              "      <th></th>\n",
              "      <th>Position</th>\n",
              "      <th>Country</th>\n",
              "      <th>Population</th>\n",
              "      <th>Yearly Change</th>\n",
              "      <th>Net Change</th>\n",
              "      <th>Density per Square Km</th>\n",
              "      <th>Land Area in Square Km</th>\n",
              "      <th>Migrants Net</th>\n",
              "      <th>Fertility Rate</th>\n",
              "      <th>Median Age</th>\n",
              "      <th>Urban Population</th>\n",
              "      <th>World Share</th>\n",
              "    </tr>\n",
              "  </thead>\n",
              "  <tbody>\n",
              "    <tr>\n",
              "      <th>0</th>\n",
              "      <td>1</td>\n",
              "      <td>China</td>\n",
              "      <td>1,439,323,776</td>\n",
              "      <td>0.39 %</td>\n",
              "      <td>5,540,090</td>\n",
              "      <td>153</td>\n",
              "      <td>9,388,211</td>\n",
              "      <td>-348,399</td>\n",
              "      <td>1.7</td>\n",
              "      <td>38</td>\n",
              "      <td>61 %</td>\n",
              "      <td>18.47 %</td>\n",
              "    </tr>\n",
              "    <tr>\n",
              "      <th>1</th>\n",
              "      <td>2</td>\n",
              "      <td>India</td>\n",
              "      <td>1,380,004,385</td>\n",
              "      <td>0.99 %</td>\n",
              "      <td>13,586,631</td>\n",
              "      <td>464</td>\n",
              "      <td>2,973,190</td>\n",
              "      <td>-532,687</td>\n",
              "      <td>2.2</td>\n",
              "      <td>28</td>\n",
              "      <td>35 %</td>\n",
              "      <td>17.70 %</td>\n",
              "    </tr>\n",
              "    <tr>\n",
              "      <th>2</th>\n",
              "      <td>3</td>\n",
              "      <td>United States</td>\n",
              "      <td>331,002,651</td>\n",
              "      <td>0.59 %</td>\n",
              "      <td>1,937,734</td>\n",
              "      <td>36</td>\n",
              "      <td>9,147,420</td>\n",
              "      <td>954,806</td>\n",
              "      <td>1.8</td>\n",
              "      <td>38</td>\n",
              "      <td>83 %</td>\n",
              "      <td>4.25 %</td>\n",
              "    </tr>\n",
              "    <tr>\n",
              "      <th>3</th>\n",
              "      <td>4</td>\n",
              "      <td>Indonesia</td>\n",
              "      <td>273,523,615</td>\n",
              "      <td>1.07 %</td>\n",
              "      <td>2,898,047</td>\n",
              "      <td>151</td>\n",
              "      <td>1,811,570</td>\n",
              "      <td>-98,955</td>\n",
              "      <td>2.3</td>\n",
              "      <td>30</td>\n",
              "      <td>56 %</td>\n",
              "      <td>3.51 %</td>\n",
              "    </tr>\n",
              "    <tr>\n",
              "      <th>4</th>\n",
              "      <td>5</td>\n",
              "      <td>Pakistan</td>\n",
              "      <td>220,892,340</td>\n",
              "      <td>2.00 %</td>\n",
              "      <td>4,327,022</td>\n",
              "      <td>287</td>\n",
              "      <td>770,880</td>\n",
              "      <td>-233,379</td>\n",
              "      <td>3.6</td>\n",
              "      <td>23</td>\n",
              "      <td>35 %</td>\n",
              "      <td>2.83 %</td>\n",
              "    </tr>\n",
              "  </tbody>\n",
              "</table>\n",
              "</div>\n",
              "    <div class=\"colab-df-buttons\">\n",
              "\n",
              "  <div class=\"colab-df-container\">\n",
              "    <button class=\"colab-df-convert\" onclick=\"convertToInteractive('df-a4cbea3b-a568-42dd-8546-4bc7f97daa28')\"\n",
              "            title=\"Convert this dataframe to an interactive table.\"\n",
              "            style=\"display:none;\">\n",
              "\n",
              "  <svg xmlns=\"http://www.w3.org/2000/svg\" height=\"24px\" viewBox=\"0 -960 960 960\">\n",
              "    <path d=\"M120-120v-720h720v720H120Zm60-500h600v-160H180v160Zm220 220h160v-160H400v160Zm0 220h160v-160H400v160ZM180-400h160v-160H180v160Zm440 0h160v-160H620v160ZM180-180h160v-160H180v160Zm440 0h160v-160H620v160Z\"/>\n",
              "  </svg>\n",
              "    </button>\n",
              "\n",
              "  <style>\n",
              "    .colab-df-container {\n",
              "      display:flex;\n",
              "      gap: 12px;\n",
              "    }\n",
              "\n",
              "    .colab-df-convert {\n",
              "      background-color: #E8F0FE;\n",
              "      border: none;\n",
              "      border-radius: 50%;\n",
              "      cursor: pointer;\n",
              "      display: none;\n",
              "      fill: #1967D2;\n",
              "      height: 32px;\n",
              "      padding: 0 0 0 0;\n",
              "      width: 32px;\n",
              "    }\n",
              "\n",
              "    .colab-df-convert:hover {\n",
              "      background-color: #E2EBFA;\n",
              "      box-shadow: 0px 1px 2px rgba(60, 64, 67, 0.3), 0px 1px 3px 1px rgba(60, 64, 67, 0.15);\n",
              "      fill: #174EA6;\n",
              "    }\n",
              "\n",
              "    .colab-df-buttons div {\n",
              "      margin-bottom: 4px;\n",
              "    }\n",
              "\n",
              "    [theme=dark] .colab-df-convert {\n",
              "      background-color: #3B4455;\n",
              "      fill: #D2E3FC;\n",
              "    }\n",
              "\n",
              "    [theme=dark] .colab-df-convert:hover {\n",
              "      background-color: #434B5C;\n",
              "      box-shadow: 0px 1px 3px 1px rgba(0, 0, 0, 0.15);\n",
              "      filter: drop-shadow(0px 1px 2px rgba(0, 0, 0, 0.3));\n",
              "      fill: #FFFFFF;\n",
              "    }\n",
              "  </style>\n",
              "\n",
              "    <script>\n",
              "      const buttonEl =\n",
              "        document.querySelector('#df-a4cbea3b-a568-42dd-8546-4bc7f97daa28 button.colab-df-convert');\n",
              "      buttonEl.style.display =\n",
              "        google.colab.kernel.accessAllowed ? 'block' : 'none';\n",
              "\n",
              "      async function convertToInteractive(key) {\n",
              "        const element = document.querySelector('#df-a4cbea3b-a568-42dd-8546-4bc7f97daa28');\n",
              "        const dataTable =\n",
              "          await google.colab.kernel.invokeFunction('convertToInteractive',\n",
              "                                                    [key], {});\n",
              "        if (!dataTable) return;\n",
              "\n",
              "        const docLinkHtml = 'Like what you see? Visit the ' +\n",
              "          '<a target=\"_blank\" href=https://colab.research.google.com/notebooks/data_table.ipynb>data table notebook</a>'\n",
              "          + ' to learn more about interactive tables.';\n",
              "        element.innerHTML = '';\n",
              "        dataTable['output_type'] = 'display_data';\n",
              "        await google.colab.output.renderOutput(dataTable, element);\n",
              "        const docLink = document.createElement('div');\n",
              "        docLink.innerHTML = docLinkHtml;\n",
              "        element.appendChild(docLink);\n",
              "      }\n",
              "    </script>\n",
              "  </div>\n",
              "\n",
              "\n",
              "<div id=\"df-80e40574-752e-4229-ba38-12658e9fc860\">\n",
              "  <button class=\"colab-df-quickchart\" onclick=\"quickchart('df-80e40574-752e-4229-ba38-12658e9fc860')\"\n",
              "            title=\"Suggest charts\"\n",
              "            style=\"display:none;\">\n",
              "\n",
              "<svg xmlns=\"http://www.w3.org/2000/svg\" height=\"24px\"viewBox=\"0 0 24 24\"\n",
              "     width=\"24px\">\n",
              "    <g>\n",
              "        <path d=\"M19 3H5c-1.1 0-2 .9-2 2v14c0 1.1.9 2 2 2h14c1.1 0 2-.9 2-2V5c0-1.1-.9-2-2-2zM9 17H7v-7h2v7zm4 0h-2V7h2v10zm4 0h-2v-4h2v4z\"/>\n",
              "    </g>\n",
              "</svg>\n",
              "  </button>\n",
              "\n",
              "<style>\n",
              "  .colab-df-quickchart {\n",
              "      --bg-color: #E8F0FE;\n",
              "      --fill-color: #1967D2;\n",
              "      --hover-bg-color: #E2EBFA;\n",
              "      --hover-fill-color: #174EA6;\n",
              "      --disabled-fill-color: #AAA;\n",
              "      --disabled-bg-color: #DDD;\n",
              "  }\n",
              "\n",
              "  [theme=dark] .colab-df-quickchart {\n",
              "      --bg-color: #3B4455;\n",
              "      --fill-color: #D2E3FC;\n",
              "      --hover-bg-color: #434B5C;\n",
              "      --hover-fill-color: #FFFFFF;\n",
              "      --disabled-bg-color: #3B4455;\n",
              "      --disabled-fill-color: #666;\n",
              "  }\n",
              "\n",
              "  .colab-df-quickchart {\n",
              "    background-color: var(--bg-color);\n",
              "    border: none;\n",
              "    border-radius: 50%;\n",
              "    cursor: pointer;\n",
              "    display: none;\n",
              "    fill: var(--fill-color);\n",
              "    height: 32px;\n",
              "    padding: 0;\n",
              "    width: 32px;\n",
              "  }\n",
              "\n",
              "  .colab-df-quickchart:hover {\n",
              "    background-color: var(--hover-bg-color);\n",
              "    box-shadow: 0 1px 2px rgba(60, 64, 67, 0.3), 0 1px 3px 1px rgba(60, 64, 67, 0.15);\n",
              "    fill: var(--button-hover-fill-color);\n",
              "  }\n",
              "\n",
              "  .colab-df-quickchart-complete:disabled,\n",
              "  .colab-df-quickchart-complete:disabled:hover {\n",
              "    background-color: var(--disabled-bg-color);\n",
              "    fill: var(--disabled-fill-color);\n",
              "    box-shadow: none;\n",
              "  }\n",
              "\n",
              "  .colab-df-spinner {\n",
              "    border: 2px solid var(--fill-color);\n",
              "    border-color: transparent;\n",
              "    border-bottom-color: var(--fill-color);\n",
              "    animation:\n",
              "      spin 1s steps(1) infinite;\n",
              "  }\n",
              "\n",
              "  @keyframes spin {\n",
              "    0% {\n",
              "      border-color: transparent;\n",
              "      border-bottom-color: var(--fill-color);\n",
              "      border-left-color: var(--fill-color);\n",
              "    }\n",
              "    20% {\n",
              "      border-color: transparent;\n",
              "      border-left-color: var(--fill-color);\n",
              "      border-top-color: var(--fill-color);\n",
              "    }\n",
              "    30% {\n",
              "      border-color: transparent;\n",
              "      border-left-color: var(--fill-color);\n",
              "      border-top-color: var(--fill-color);\n",
              "      border-right-color: var(--fill-color);\n",
              "    }\n",
              "    40% {\n",
              "      border-color: transparent;\n",
              "      border-right-color: var(--fill-color);\n",
              "      border-top-color: var(--fill-color);\n",
              "    }\n",
              "    60% {\n",
              "      border-color: transparent;\n",
              "      border-right-color: var(--fill-color);\n",
              "    }\n",
              "    80% {\n",
              "      border-color: transparent;\n",
              "      border-right-color: var(--fill-color);\n",
              "      border-bottom-color: var(--fill-color);\n",
              "    }\n",
              "    90% {\n",
              "      border-color: transparent;\n",
              "      border-bottom-color: var(--fill-color);\n",
              "    }\n",
              "  }\n",
              "</style>\n",
              "\n",
              "  <script>\n",
              "    async function quickchart(key) {\n",
              "      const quickchartButtonEl =\n",
              "        document.querySelector('#' + key + ' button');\n",
              "      quickchartButtonEl.disabled = true;  // To prevent multiple clicks.\n",
              "      quickchartButtonEl.classList.add('colab-df-spinner');\n",
              "      try {\n",
              "        const charts = await google.colab.kernel.invokeFunction(\n",
              "            'suggestCharts', [key], {});\n",
              "      } catch (error) {\n",
              "        console.error('Error during call to suggestCharts:', error);\n",
              "      }\n",
              "      quickchartButtonEl.classList.remove('colab-df-spinner');\n",
              "      quickchartButtonEl.classList.add('colab-df-quickchart-complete');\n",
              "    }\n",
              "    (() => {\n",
              "      let quickchartButtonEl =\n",
              "        document.querySelector('#df-80e40574-752e-4229-ba38-12658e9fc860 button');\n",
              "      quickchartButtonEl.style.display =\n",
              "        google.colab.kernel.accessAllowed ? 'block' : 'none';\n",
              "    })();\n",
              "  </script>\n",
              "</div>\n",
              "\n",
              "    </div>\n",
              "  </div>\n"
            ],
            "application/vnd.google.colaboratory.intrinsic+json": {
              "type": "dataframe",
              "summary": "{\n  \"name\": \"display(df\",\n  \"rows\": 5,\n  \"fields\": [\n    {\n      \"column\": \"Position\",\n      \"properties\": {\n        \"dtype\": \"number\",\n        \"std\": 1,\n        \"min\": 1,\n        \"max\": 5,\n        \"num_unique_values\": 5,\n        \"samples\": [\n          2,\n          5,\n          3\n        ],\n        \"semantic_type\": \"\",\n        \"description\": \"\"\n      }\n    },\n    {\n      \"column\": \"Country\",\n      \"properties\": {\n        \"dtype\": \"string\",\n        \"num_unique_values\": 5,\n        \"samples\": [\n          \"India\",\n          \"Pakistan\",\n          \"United States\"\n        ],\n        \"semantic_type\": \"\",\n        \"description\": \"\"\n      }\n    },\n    {\n      \"column\": \"Population\",\n      \"properties\": {\n        \"dtype\": \"string\",\n        \"num_unique_values\": 5,\n        \"samples\": [\n          \"1,380,004,385\",\n          \"220,892,340\",\n          \"331,002,651\"\n        ],\n        \"semantic_type\": \"\",\n        \"description\": \"\"\n      }\n    },\n    {\n      \"column\": \"Yearly Change\",\n      \"properties\": {\n        \"dtype\": \"string\",\n        \"num_unique_values\": 5,\n        \"samples\": [\n          \"0.99 %\",\n          \"2.00 %\",\n          \"0.59 %\"\n        ],\n        \"semantic_type\": \"\",\n        \"description\": \"\"\n      }\n    },\n    {\n      \"column\": \"Net Change\",\n      \"properties\": {\n        \"dtype\": \"string\",\n        \"num_unique_values\": 5,\n        \"samples\": [\n          \"13,586,631\",\n          \"4,327,022\",\n          \"1,937,734\"\n        ],\n        \"semantic_type\": \"\",\n        \"description\": \"\"\n      }\n    },\n    {\n      \"column\": \"Density per Square Km\",\n      \"properties\": {\n        \"dtype\": \"string\",\n        \"num_unique_values\": 5,\n        \"samples\": [\n          \"464\",\n          \"287\",\n          \"36\"\n        ],\n        \"semantic_type\": \"\",\n        \"description\": \"\"\n      }\n    },\n    {\n      \"column\": \"Land Area in Square Km\",\n      \"properties\": {\n        \"dtype\": \"string\",\n        \"num_unique_values\": 5,\n        \"samples\": [\n          \"2,973,190\",\n          \"770,880\",\n          \"9,147,420\"\n        ],\n        \"semantic_type\": \"\",\n        \"description\": \"\"\n      }\n    },\n    {\n      \"column\": \"Migrants Net\",\n      \"properties\": {\n        \"dtype\": \"string\",\n        \"num_unique_values\": 5,\n        \"samples\": [\n          \"-532,687\",\n          \"-233,379\",\n          \"954,806\"\n        ],\n        \"semantic_type\": \"\",\n        \"description\": \"\"\n      }\n    },\n    {\n      \"column\": \"Fertility Rate\",\n      \"properties\": {\n        \"dtype\": \"string\",\n        \"num_unique_values\": 5,\n        \"samples\": [\n          \"2.2\",\n          \"3.6\",\n          \"1.8\"\n        ],\n        \"semantic_type\": \"\",\n        \"description\": \"\"\n      }\n    },\n    {\n      \"column\": \"Median Age\",\n      \"properties\": {\n        \"dtype\": \"string\",\n        \"num_unique_values\": 4,\n        \"samples\": [\n          \"28\",\n          \"23\",\n          \"38\"\n        ],\n        \"semantic_type\": \"\",\n        \"description\": \"\"\n      }\n    },\n    {\n      \"column\": \"Urban Population\",\n      \"properties\": {\n        \"dtype\": \"string\",\n        \"num_unique_values\": 4,\n        \"samples\": [\n          \"35 %\",\n          \"56 %\",\n          \"61 %\"\n        ],\n        \"semantic_type\": \"\",\n        \"description\": \"\"\n      }\n    },\n    {\n      \"column\": \"World Share\",\n      \"properties\": {\n        \"dtype\": \"string\",\n        \"num_unique_values\": 5,\n        \"samples\": [\n          \"17.70 %\",\n          \"2.83 %\",\n          \"4.25 %\"\n        ],\n        \"semantic_type\": \"\",\n        \"description\": \"\"\n      }\n    }\n  ]\n}"
            }
          },
          "metadata": {}
        }
      ]
    },
    {
      "cell_type": "code",
      "source": [
        "print(df.dtypes)"
      ],
      "metadata": {
        "colab": {
          "base_uri": "https://localhost:8080/"
        },
        "id": "eCXwx6U0Hdf2",
        "outputId": "ae9a5091-d0ac-43bc-f2d3-3c1749dc6a3a"
      },
      "execution_count": 6,
      "outputs": [
        {
          "output_type": "stream",
          "name": "stdout",
          "text": [
            "Position                   int64\n",
            "Country                   object\n",
            "Population                object\n",
            "Yearly Change             object\n",
            "Net Change                object\n",
            "Density per Square Km     object\n",
            "Land Area in Square Km    object\n",
            "Migrants Net              object\n",
            "Fertility Rate            object\n",
            "Median Age                object\n",
            "Urban Population          object\n",
            "World Share               object\n",
            "dtype: object\n"
          ]
        }
      ]
    },
    {
      "cell_type": "code",
      "source": [
        "# Save the first few rows of the DataFrame to a CSV file\n",
        "df.to_csv('population_data.csv', index=False)"
      ],
      "metadata": {
        "id": "77fcE4tsG4BO"
      },
      "execution_count": 5,
      "outputs": []
    },
    {
      "cell_type": "markdown",
      "metadata": {
        "id": "_L6zyNNCGQzz"
      },
      "source": [
        "# Working with SQL"
      ]
    },
    {
      "cell_type": "code",
      "execution_count": null,
      "metadata": {
        "id": "gOq2ev9pGQzz",
        "outputId": "a131e261-3d1f-4646-a5c0-4091a0f32f8d"
      },
      "outputs": [
        {
          "name": "stdout",
          "output_type": "stream",
          "text": [
            "Processing c:\\users\\91842\\appdata\\local\\pip\\cache\\wheels\\57\\e4\\98\\5feafb5c393dd2540e44b064a6f95832990d543e5b4f53ea8f\\mysql_connector-2.2.9-cp38-cp38-win_amd64.whl\n",
            "Installing collected packages: mysql.connector\n",
            "Successfully installed mysql.connector\n"
          ]
        }
      ],
      "source": [
        "!pip install mysql.connector"
      ]
    },
    {
      "cell_type": "code",
      "execution_count": null,
      "metadata": {
        "id": "QW0rJ8EpGQz0"
      },
      "outputs": [],
      "source": [
        "import mysql.connector"
      ]
    },
    {
      "cell_type": "code",
      "execution_count": null,
      "metadata": {
        "id": "2PxMGnogGQz0"
      },
      "outputs": [],
      "source": [
        "conn = mysql.connector.connect(host='localhost',user='root',password='',database='world')"
      ]
    },
    {
      "cell_type": "code",
      "execution_count": null,
      "metadata": {
        "id": "vVuAOTqcGQz1"
      },
      "outputs": [],
      "source": [
        "df = pd.read_sql_query(\"SELECT * FROM countrylanguage\",conn)"
      ]
    },
    {
      "cell_type": "code",
      "execution_count": null,
      "metadata": {
        "id": "pu_PzKJWGQz1",
        "outputId": "3012a17f-d62c-4137-eee0-37e44a1fd541"
      },
      "outputs": [
        {
          "data": {
            "text/html": [
              "<div>\n",
              "<style scoped>\n",
              "    .dataframe tbody tr th:only-of-type {\n",
              "        vertical-align: middle;\n",
              "    }\n",
              "\n",
              "    .dataframe tbody tr th {\n",
              "        vertical-align: top;\n",
              "    }\n",
              "\n",
              "    .dataframe thead th {\n",
              "        text-align: right;\n",
              "    }\n",
              "</style>\n",
              "<table border=\"1\" class=\"dataframe\">\n",
              "  <thead>\n",
              "    <tr style=\"text-align: right;\">\n",
              "      <th></th>\n",
              "      <th>CountryCode</th>\n",
              "      <th>Language</th>\n",
              "      <th>IsOfficial</th>\n",
              "      <th>Percentage</th>\n",
              "    </tr>\n",
              "  </thead>\n",
              "  <tbody>\n",
              "    <tr>\n",
              "      <th>0</th>\n",
              "      <td>ABW</td>\n",
              "      <td>Dutch</td>\n",
              "      <td>T</td>\n",
              "      <td>5.3</td>\n",
              "    </tr>\n",
              "    <tr>\n",
              "      <th>1</th>\n",
              "      <td>ABW</td>\n",
              "      <td>English</td>\n",
              "      <td>F</td>\n",
              "      <td>9.5</td>\n",
              "    </tr>\n",
              "    <tr>\n",
              "      <th>2</th>\n",
              "      <td>ABW</td>\n",
              "      <td>Papiamento</td>\n",
              "      <td>F</td>\n",
              "      <td>76.7</td>\n",
              "    </tr>\n",
              "    <tr>\n",
              "      <th>3</th>\n",
              "      <td>ABW</td>\n",
              "      <td>Spanish</td>\n",
              "      <td>F</td>\n",
              "      <td>7.4</td>\n",
              "    </tr>\n",
              "    <tr>\n",
              "      <th>4</th>\n",
              "      <td>AFG</td>\n",
              "      <td>Balochi</td>\n",
              "      <td>F</td>\n",
              "      <td>0.9</td>\n",
              "    </tr>\n",
              "    <tr>\n",
              "      <th>...</th>\n",
              "      <td>...</td>\n",
              "      <td>...</td>\n",
              "      <td>...</td>\n",
              "      <td>...</td>\n",
              "    </tr>\n",
              "    <tr>\n",
              "      <th>979</th>\n",
              "      <td>ZMB</td>\n",
              "      <td>Tongan</td>\n",
              "      <td>F</td>\n",
              "      <td>11.0</td>\n",
              "    </tr>\n",
              "    <tr>\n",
              "      <th>980</th>\n",
              "      <td>ZWE</td>\n",
              "      <td>English</td>\n",
              "      <td>T</td>\n",
              "      <td>2.2</td>\n",
              "    </tr>\n",
              "    <tr>\n",
              "      <th>981</th>\n",
              "      <td>ZWE</td>\n",
              "      <td>Ndebele</td>\n",
              "      <td>F</td>\n",
              "      <td>16.2</td>\n",
              "    </tr>\n",
              "    <tr>\n",
              "      <th>982</th>\n",
              "      <td>ZWE</td>\n",
              "      <td>Nyanja</td>\n",
              "      <td>F</td>\n",
              "      <td>2.2</td>\n",
              "    </tr>\n",
              "    <tr>\n",
              "      <th>983</th>\n",
              "      <td>ZWE</td>\n",
              "      <td>Shona</td>\n",
              "      <td>F</td>\n",
              "      <td>72.1</td>\n",
              "    </tr>\n",
              "  </tbody>\n",
              "</table>\n",
              "<p>984 rows × 4 columns</p>\n",
              "</div>"
            ],
            "text/plain": [
              "    CountryCode    Language IsOfficial  Percentage\n",
              "0           ABW       Dutch          T         5.3\n",
              "1           ABW     English          F         9.5\n",
              "2           ABW  Papiamento          F        76.7\n",
              "3           ABW     Spanish          F         7.4\n",
              "4           AFG     Balochi          F         0.9\n",
              "..          ...         ...        ...         ...\n",
              "979         ZMB      Tongan          F        11.0\n",
              "980         ZWE     English          T         2.2\n",
              "981         ZWE     Ndebele          F        16.2\n",
              "982         ZWE      Nyanja          F         2.2\n",
              "983         ZWE       Shona          F        72.1\n",
              "\n",
              "[984 rows x 4 columns]"
            ]
          },
          "execution_count": 28,
          "metadata": {},
          "output_type": "execute_result"
        }
      ],
      "source": [
        "df"
      ]
    }
  ],
  "metadata": {
    "kernelspec": {
      "display_name": "Python 3",
      "language": "python",
      "name": "python3"
    },
    "language_info": {
      "codemirror_mode": {
        "name": "ipython",
        "version": 3
      },
      "file_extension": ".py",
      "mimetype": "text/x-python",
      "name": "python",
      "nbconvert_exporter": "python",
      "pygments_lexer": "ipython3",
      "version": "3.8.3"
    },
    "colab": {
      "provenance": []
    }
  },
  "nbformat": 4,
  "nbformat_minor": 0
}