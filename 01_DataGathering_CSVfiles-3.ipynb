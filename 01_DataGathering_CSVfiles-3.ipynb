{
  "nbformat": 4,
  "nbformat_minor": 0,
  "metadata": {
    "colab": {
      "provenance": []
    },
    "kernelspec": {
      "name": "python3",
      "display_name": "Python 3"
    },
    "language_info": {
      "name": "python"
    }
  },
  "cells": [
    {
      "cell_type": "markdown",
      "source": [
        "<div id=\"header\">\n",
        "    <p style=\"color:#6a66bd; text-align:center; font-weight:bold; font-family:Tahoma, sans-serif; font-size:24px;\">\n",
        "        Data Gathering\n",
        "    </p>\n",
        "</div>"
      ],
      "metadata": {
        "id": "PdN9I0MJKVaK"
      }
    },
    {
      "cell_type": "markdown",
      "source": [
        "<div style=\"background-color:gainsboro; padding:8px; border:2px dotted black; border-radius:8px; font-family:sans-serif; line-height: 1.7em\">\n",
        "\n",
        "Data gathering is the first and one of the most essential steps in the machine learning workflow. In this section, we will focus on collecting and preparing datasets in **CSV (Comma-Separated Values)** format, which is a standard for storing tabular data.\n",
        "\n",
        "CSV files are popular for data storage and exchange due to their simplicity and wide compatibility with various data processing tools, making them an ideal choice for machine learning projects.\n",
        "\n",
        "**Key points about CSV files:**\n",
        "- They store data in plain text, making them human-readable.\n",
        "- They are easy to parse, manipulate, and load into environments like Python using libraries such as `pandas`.\n",
        "- CSV format helps maintain the structure of datasets while being lightweight and efficient.\n",
        "\n",
        "This notebook will walk through the steps of:\n",
        "1. Gathering datasets from reliable sources.\n",
        "2. Understanding the structure and format of CSV files.\n",
        "3. Loading and exploring datasets using Python's `pandas` library.\n",
        "\n",
        "</div>"
      ],
      "metadata": {
        "id": "cICu9-s2IkW0"
      }
    },
    {
      "cell_type": "code",
      "source": [],
      "metadata": {
        "id": "fHenzkQHIjPi"
      },
      "execution_count": null,
      "outputs": []
    },
    {
      "cell_type": "code",
      "source": [],
      "metadata": {
        "id": "FsIGV09fFMQ7"
      },
      "execution_count": null,
      "outputs": []
    },
    {
      "cell_type": "code",
      "execution_count": null,
      "metadata": {
        "id": "YQMyya5E7SUE"
      },
      "outputs": [],
      "source": []
    }
  ]
}